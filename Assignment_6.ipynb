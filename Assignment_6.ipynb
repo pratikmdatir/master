{
 "cells": [
  {
   "cell_type": "markdown",
   "id": "5dbe8913",
   "metadata": {},
   "source": [
    "# Assignment-6"
   ]
  },
  {
   "cell_type": "code",
   "execution_count": null,
   "id": "27473a32",
   "metadata": {},
   "outputs": [],
   "source": [
    "#1. What are escape characters, and how do you use them?\n",
    "#Ans:- The escape characters are:- '\\t'=Used to represent a tab. '\\n'=Used to represent new line. '\\r'=Used to represent carriage return. "
   ]
  },
  {
   "cell_type": "code",
   "execution_count": 1,
   "id": "530786ba",
   "metadata": {},
   "outputs": [],
   "source": [
    "#2. What do the escape characters n and t stand for?\n",
    "#Ans:- Escape character n stand for 'new line'. t stand for 'tab'."
   ]
  },
  {
   "cell_type": "code",
   "execution_count": null,
   "id": "7a35e741",
   "metadata": {},
   "outputs": [],
   "source": [
    "#3. What is the way to include backslash characters in a string?\n",
    "#Ans:- '\\\\' can be used to include backslash characters in a string."
   ]
  },
  {
   "cell_type": "code",
   "execution_count": null,
   "id": "3fac79c2",
   "metadata": {},
   "outputs": [],
   "source": [
    "#4. The string \"Howl's Moving Castle\" is a correct value. Why isn't the single quote character in the word Howl's not escaped a problem?\n",
    "#Ans:- Because single quote is used in the word Howl's and the complete string is enclosed in double-quotes."
   ]
  },
  {
   "cell_type": "code",
   "execution_count": 24,
   "id": "31b373d9",
   "metadata": {},
   "outputs": [],
   "source": [
    "#5. How do you write a string of newlines if you don't want to use the n character?\n",
    "#Ans:- We can write a string using three quotes - \"\"\"\" or ''' if we dont want to use the n character. Below is the example.\n",
    "\n",
    "a = \"\"\"This is Python.\n",
    "We can code using Python.\"\"\"\n",
    "print(a)"
   ]
  },
  {
   "cell_type": "code",
   "execution_count": 2,
   "id": "e7029fe4",
   "metadata": {},
   "outputs": [],
   "source": [
    "#6. What are the values of the given expressions?\n",
    "'Hello, world!'[1]\n",
    "'Hello, world!'[0:5]\n",
    "'Hello, world!'[:5]\n",
    "'Hello, world!'[3:]\n",
    "#Ans:- 'Hello, world!'[1] = 'e'\n",
    "       #'Hello, world!'[0:5] = 'Hello'\n",
    "       #'Hello, world!'[:5] = 'Hello'\n",
    "       #'Hello, world!'[3:] = 'lo, world!'"
   ]
  },
  {
   "cell_type": "code",
   "execution_count": null,
   "id": "71ff012f",
   "metadata": {},
   "outputs": [],
   "source": [
    "#7. What are the values of the following expressions?\n",
    "'Hello'.upper()\n",
    "'Hello'.upper().isupper()\n",
    "'Hello'.upper().lower()\n",
    "#Ans:- 'Hello'.upper() = 'HELLO'\n",
    "       #'Hello'.upper().isupper() = True\n",
    "       #'Hello'.upper().lower() = 'hello'"
   ]
  },
  {
   "cell_type": "code",
   "execution_count": null,
   "id": "4ae21b9e",
   "metadata": {},
   "outputs": [],
   "source": [
    "#8. What are the values of the following expressions?\n",
    "'Remember, remember, the fifth of July.'.split()\n",
    "'-'.join('There can only one.'.split())\n",
    "#Ans:-\n",
    "'Remember, remember, the fifth of July.'.split() = ['Remember,', 'remember,', 'the', 'fifth', 'of', 'July.']\n",
    "\n",
    "'-'.join('There can only one.'.split()) = 'There-can-only-one.'"
   ]
  },
  {
   "cell_type": "code",
   "execution_count": 31,
   "id": "84f3c324",
   "metadata": {},
   "outputs": [
    {
     "data": {
      "text/plain": [
       "True"
      ]
     },
     "execution_count": 31,
     "metadata": {},
     "output_type": "execute_result"
    }
   ],
   "source": [
    "#9. What are the methods for right-justifying, left-justifying, and centering a string?\n",
    "#Ans:- rjust(), ljust(), center( ) are the methods."
   ]
  },
  {
   "cell_type": "code",
   "execution_count": null,
   "id": "fc7407b0",
   "metadata": {},
   "outputs": [],
   "source": [
    "#10. What is the best way to remove whitespace characters from the start or end?\n",
    "#Ans:- strip() method can be used to remove whitespace characters from start or end."
   ]
  },
  {
   "cell_type": "code",
   "execution_count": null,
   "id": "3958ea6b",
   "metadata": {},
   "outputs": [],
   "source": []
  },
  {
   "cell_type": "code",
   "execution_count": null,
   "id": "606609fa",
   "metadata": {},
   "outputs": [],
   "source": [
    "            "
   ]
  },
  {
   "cell_type": "code",
   "execution_count": null,
   "id": "7bfe4879",
   "metadata": {},
   "outputs": [],
   "source": []
  },
  {
   "cell_type": "code",
   "execution_count": null,
   "id": "901e268d",
   "metadata": {},
   "outputs": [],
   "source": []
  },
  {
   "cell_type": "code",
   "execution_count": null,
   "id": "acd481bf",
   "metadata": {},
   "outputs": [],
   "source": []
  },
  {
   "cell_type": "code",
   "execution_count": null,
   "id": "bed125df",
   "metadata": {},
   "outputs": [],
   "source": []
  }
 ],
 "metadata": {
  "kernelspec": {
   "display_name": "Python 3",
   "language": "python",
   "name": "python3"
  },
  "language_info": {
   "codemirror_mode": {
    "name": "ipython",
    "version": 3
   },
   "file_extension": ".py",
   "mimetype": "text/x-python",
   "name": "python",
   "nbconvert_exporter": "python",
   "pygments_lexer": "ipython3",
   "version": "3.8.8"
  }
 },
 "nbformat": 4,
 "nbformat_minor": 5
}
