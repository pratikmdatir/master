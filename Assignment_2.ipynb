{
 "cells": [
  {
   "cell_type": "markdown",
   "id": "3083fe7b",
   "metadata": {},
   "source": [
    "# Python Basic Assignment-2"
   ]
  },
  {
   "cell_type": "code",
   "execution_count": 1,
   "id": "79548561",
   "metadata": {},
   "outputs": [
    {
     "ename": "SyntaxError",
     "evalue": "invalid syntax (<ipython-input-1-1161226f0705>, line 2)",
     "output_type": "error",
     "traceback": [
      "\u001b[1;36m  File \u001b[1;32m\"<ipython-input-1-1161226f0705>\"\u001b[1;36m, line \u001b[1;32m2\u001b[0m\n\u001b[1;33m    Ans:- True and False are the two values of Boolean data type.\u001b[0m\n\u001b[1;37m                         ^\u001b[0m\n\u001b[1;31mSyntaxError\u001b[0m\u001b[1;31m:\u001b[0m invalid syntax\n"
     ]
    }
   ],
   "source": [
    "1.What are the two values of the Boolean data type? How do you write them?\n",
    "Ans:- True and False are the two values of Boolean data type."
   ]
  },
  {
   "cell_type": "code",
   "execution_count": null,
   "id": "b3114409",
   "metadata": {},
   "outputs": [],
   "source": [
    "What are the three different types of Boolean operators?\n",
    "Ans:- AND, OR , NOT are the three different types of boolean operators."
   ]
  },
  {
   "cell_type": "code",
   "execution_count": null,
   "id": "54293a61",
   "metadata": {},
   "outputs": [],
   "source": [
    "3. Make a list of each Boolean operator's truth tables (i.e. every possible combination of Boolean values for the operator and what it evaluate ).\n",
    "Ans:- AND:\n",
    "        0 and 0 = 0\n",
    "        0 and 1 = 0\n",
    "        1 and 0 = 0\n",
    "        1 and 1 = 1\n",
    "      \n",
    "      OR:\n",
    "        0 or 0 = 0\n",
    "        0 or 1 = 1\n",
    "        1 or 0 = 1\n",
    "        1 or 1 = 1\n",
    "        \n",
    "      NOT:\n",
    "        NOT 0 = 1\n",
    "        NOT 1 = 0"
   ]
  },
  {
   "cell_type": "code",
   "execution_count": 3,
   "id": "50b63859",
   "metadata": {},
   "outputs": [
    {
     "data": {
      "text/plain": [
       "0"
      ]
     },
     "execution_count": 3,
     "metadata": {},
     "output_type": "execute_result"
    }
   ],
   "source": [
    "4. What are the values of the following expressions?\n",
    "(5 > 4) and (3 == 5)\n",
    "not (5 > 4)\n",
    "(5 > 4) or (3 == 5)\n",
    "not ((5 > 4) or (3 == 5))\n",
    "(True and True) and (True == False)\n",
    "(not False) or (not True)\n",
    "\n",
    "Ans:- (5 > 4) and (3 == 5) --> False\n",
    "      not (5 > 4)          --> False \n",
    "      (5 > 4) or (3 == 5)  --> True\n",
    "      not ((5 > 4) or (3 == 5)) --> False\n",
    "      (True and True) and (True == False) --> False\n",
    "      (not False) or (not True) --> True"
   ]
  },
  {
   "cell_type": "code",
   "execution_count": 9,
   "id": "ccaa47a0",
   "metadata": {},
   "outputs": [
    {
     "data": {
      "text/plain": [
       "True"
      ]
     },
     "execution_count": 9,
     "metadata": {},
     "output_type": "execute_result"
    }
   ],
   "source": [
    "5. What are the six comparison operators?\n",
    "Ans:- < -- Less than\n",
    "      > -- Greater than\n",
    "      <= -- Less than equal to\n",
    "      >= -- Greater than equal to\n",
    "      == -- Equal to\n",
    "      != -- Not equal to"
   ]
  },
  {
   "cell_type": "code",
   "execution_count": null,
   "id": "6fee604e",
   "metadata": {},
   "outputs": [],
   "source": [
    "6. How do you tell the difference between the equal to and assignment operators?Describe a condition and when you would use one.\n",
    "Ans:- 1. a = 25\n",
    "            This means I am assigning value 25 to variable a. This is a assignment operator.\n",
    "        \n",
    "      2. if a == 25:\n",
    "            print(a)\n",
    "            Here a ==(equal to) is used to check if the value of a is 25 in if condition."
   ]
  },
  {
   "cell_type": "code",
   "execution_count": 12,
   "id": "3b974346",
   "metadata": {},
   "outputs": [
    {
     "name": "stdout",
     "output_type": "stream",
     "text": [
      "ham\n",
      "spam\n",
      "spam\n"
     ]
    }
   ],
   "source": [
    "#7. Identify the three blocks in this code:\n",
    "spam = 0\n",
    "if spam == 10:\n",
    "    print('eggs')\n",
    "if spam > 5:\n",
    "    print('bacon')\n",
    "else:\n",
    "    print('ham')\n",
    "    print('spam')\n",
    "    print('spam')\n"
   ]
  },
  {
   "cell_type": "code",
   "execution_count": 26,
   "id": "9b553e7f",
   "metadata": {},
   "outputs": [
    {
     "name": "stdout",
     "output_type": "stream",
     "text": [
      "Enter a value1\n",
      "Hello\n"
     ]
    }
   ],
   "source": [
    "#8. Write code that prints Hello if 1 is stored in spam, prints Howdy if 2 is stored in spam, and prints Greetings! if anything else is stored in spam.\n",
    "\n",
    "spam=int(input('Enter a value'))\n",
    "if spam==1:\n",
    "    print('Hello')\n",
    "elif spam==2:\n",
    "    print('Howdy')\n",
    "else:\n",
    "    print('Greetings!')"
   ]
  },
  {
   "cell_type": "code",
   "execution_count": null,
   "id": "35ddde36",
   "metadata": {},
   "outputs": [],
   "source": [
    "9.If your programme is stuck in an endless loop, what keys you’ll press?\n",
    "Ans:- I will press Ctrl+C to exit out of the endless loop."
   ]
  },
  {
   "cell_type": "code",
   "execution_count": null,
   "id": "9d052e77",
   "metadata": {},
   "outputs": [],
   "source": [
    "10. How can you tell the difference between break and continue?\n",
    "Ans:- 'Break' will break/stop the loop if the condition is True or satisfied. 'Continue' will redirect to the loop and the steps in the loop after continue will not execute. "
   ]
  },
  {
   "cell_type": "code",
   "execution_count": null,
   "id": "f1d1ae58",
   "metadata": {},
   "outputs": [],
   "source": [
    "11. In a for loop, what is the difference between range(10), range(0, 10), and range(0, 10, 1)?\n",
    "Ans:- No difference. All of the above range functions are same.\n",
    "    "
   ]
  },
  {
   "cell_type": "code",
   "execution_count": null,
   "id": "2ad890f0",
   "metadata": {},
   "outputs": [],
   "source": [
    "#12. Write a short program that prints the numbers 1 to 10 using a for loop. Then write an equivalent program that prints the numbers 1 to 10 using a while loop.\n",
    "#Ans:-\n",
    "#for loop\n",
    "for i in range(1,11):\n",
    "    print(i)\n",
    "\n",
    "#while loop\n",
    "i=11\n",
    "a=1\n",
    "while a<i:\n",
    "    print(a)\n",
    "    a=a+1"
   ]
  },
  {
   "cell_type": "code",
   "execution_count": null,
   "id": "49280bec",
   "metadata": {},
   "outputs": [],
   "source": [
    "13. If you had a function named bacon() inside a module named spam, how would you call it after importing spam?\n",
    "Ans:- \n",
    "    import spam\n",
    "    spam.bacon()"
   ]
  },
  {
   "cell_type": "code",
   "execution_count": null,
   "id": "6fd1cac8",
   "metadata": {},
   "outputs": [],
   "source": []
  },
  {
   "cell_type": "code",
   "execution_count": null,
   "id": "f33ca7d3",
   "metadata": {},
   "outputs": [],
   "source": []
  },
  {
   "cell_type": "code",
   "execution_count": null,
   "id": "593eff09",
   "metadata": {},
   "outputs": [],
   "source": []
  }
 ],
 "metadata": {
  "kernelspec": {
   "display_name": "Python 3",
   "language": "python",
   "name": "python3"
  },
  "language_info": {
   "codemirror_mode": {
    "name": "ipython",
    "version": 3
   },
   "file_extension": ".py",
   "mimetype": "text/x-python",
   "name": "python",
   "nbconvert_exporter": "python",
   "pygments_lexer": "ipython3",
   "version": "3.8.8"
  }
 },
 "nbformat": 4,
 "nbformat_minor": 5
}
