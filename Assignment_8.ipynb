{
 "cells": [
  {
   "cell_type": "markdown",
   "id": "8031c5ec",
   "metadata": {},
   "source": [
    "# Assignment-8"
   ]
  },
  {
   "cell_type": "code",
   "execution_count": null,
   "id": "0916f43a",
   "metadata": {},
   "outputs": [],
   "source": [
    "#1. Is the Python Standard Library included with PyInputPlus?\n",
    "#Ans:- No. PyInputPlus is not included with Python Standard Library."
   ]
  },
  {
   "cell_type": "code",
   "execution_count": null,
   "id": "7051ad86",
   "metadata": {},
   "outputs": [],
   "source": [
    "#2. Why is PyInputPlus commonly imported with import pyinputplus as pypi?\n",
    "#Ans:- So that we can enter a shorter name when calling a module's functions."
   ]
  },
  {
   "cell_type": "code",
   "execution_count": null,
   "id": "72b3d2a4",
   "metadata": {},
   "outputs": [],
   "source": [
    "#3. How do you distinguish between inputInt() and inputFloat()?\n",
    "#Ans:- inputInt() -- Accepts an integer value and returns an Int whereas inputFloat() -- Accepts a floating-point numeric value and returns a float."
   ]
  },
  {
   "cell_type": "code",
   "execution_count": null,
   "id": "b9c07878",
   "metadata": {},
   "outputs": [],
   "source": [
    "#4. Using PyInputPlus, how do you ensure that the user enters a whole number between 0 and 99?\n",
    "#And:- input = pyip.inputInt(prompt='Enter a value: ', min=0, max=99)"
   ]
  },
  {
   "cell_type": "code",
   "execution_count": null,
   "id": "76e7eea0",
   "metadata": {},
   "outputs": [],
   "source": [
    "#5. What is transferred to the keyword arguments allowRegexes and blockRegexes?\n",
    "#Ans:- allowRegexes and blockRegexes will allow any input."
   ]
  },
  {
   "cell_type": "code",
   "execution_count": null,
   "id": "21702eca",
   "metadata": {},
   "outputs": [],
   "source": [
    "#6. If a blank input is entered three times, what does inputStr(limit=3) do?\n",
    "#Ans:- It will prompt \"Blank values are not allowed.\" 3 times and then will give Retry Limit Exception."
   ]
  },
  {
   "cell_type": "code",
   "execution_count": null,
   "id": "3e2bdfdf",
   "metadata": {},
   "outputs": [],
   "source": [
    "#7. If blank input is entered three times, what does inputStr(limit=3, default='hello') do?\n",
    "#Ans:- It will prompt \"Blank values are not allowed.\" 3 times and then will return default string 'hello'"
   ]
  },
  {
   "cell_type": "code",
   "execution_count": null,
   "id": "1f6c7413",
   "metadata": {},
   "outputs": [],
   "source": []
  },
  {
   "cell_type": "code",
   "execution_count": null,
   "id": "1ad3d5c0",
   "metadata": {},
   "outputs": [],
   "source": []
  }
 ],
 "metadata": {
  "kernelspec": {
   "display_name": "Python 3",
   "language": "python",
   "name": "python3"
  },
  "language_info": {
   "codemirror_mode": {
    "name": "ipython",
    "version": 3
   },
   "file_extension": ".py",
   "mimetype": "text/x-python",
   "name": "python",
   "nbconvert_exporter": "python",
   "pygments_lexer": "ipython3",
   "version": "3.8.8"
  }
 },
 "nbformat": 4,
 "nbformat_minor": 5
}
