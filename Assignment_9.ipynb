{
 "cells": [
  {
   "cell_type": "markdown",
   "id": "9dae388d",
   "metadata": {},
   "source": [
    "# Assignment-9"
   ]
  },
  {
   "cell_type": "code",
   "execution_count": null,
   "id": "1d1d9981",
   "metadata": {},
   "outputs": [],
   "source": [
    "#1. To what does a relative path refer?\n",
    "#Ans:- A relative path is a path of a file with respect to your present working directory."
   ]
  },
  {
   "cell_type": "code",
   "execution_count": null,
   "id": "b88daf4b",
   "metadata": {},
   "outputs": [],
   "source": [
    "#2. What does an absolute path start with your operating system?\n",
    "#Ans:- An absolute path starts with the root element in the operating system. It begins with the drive letter i.e. C: or D:"
   ]
  },
  {
   "cell_type": "code",
   "execution_count": null,
   "id": "e7c5b85c",
   "metadata": {},
   "outputs": [],
   "source": [
    "#3. What do the functions os.getcwd() and os.chdir() do?\n",
    "#Ans:- os.getcwd() -- It returns the current working directory path.\n",
    "      #os.chdir() -- It changes the current working directory to the directory path given. It takes path as the arguement."
   ]
  },
  {
   "cell_type": "code",
   "execution_count": null,
   "id": "e478fd6d",
   "metadata": {},
   "outputs": [],
   "source": [
    "#4. What are the . and .. folders?\n",
    "#Ans:- '.' is a current folder (present working directory) and '..' is the previous folder."
   ]
  },
  {
   "cell_type": "code",
   "execution_count": null,
   "id": "e466bc84",
   "metadata": {},
   "outputs": [],
   "source": [
    "#5. In C:\\bacon\\eggs\\spam.txt, which part is the dir name, and which part is the base name?\n",
    "#Ans:- dir name = C:\\bacon\\eggs\\ and base name = spam.txt"
   ]
  },
  {
   "cell_type": "code",
   "execution_count": null,
   "id": "25ad86b2",
   "metadata": {},
   "outputs": [],
   "source": [
    "#6. What are the three “mode” arguments that can be passed to the open() function?\n",
    "#Ans:- 'r' -- read, 'w' -- write and 'a' -- append are the three mode arguements that can be passed to the open() function."
   ]
  },
  {
   "cell_type": "code",
   "execution_count": null,
   "id": "bc5e5f01",
   "metadata": {},
   "outputs": [],
   "source": [
    "#7. What happens if an existing file is opened in write mode?\n",
    "#Ans:- If an existing file is opened in write mode, it truncates the file."
   ]
  },
  {
   "cell_type": "code",
   "execution_count": null,
   "id": "bf4d808b",
   "metadata": {},
   "outputs": [],
   "source": [
    "#8. How do you tell the difference between read() and readlines()?\n",
    "#Ans:- read() -- It reads most recent characters of the file and reads it till end if -ve or none is given.\n",
    "      #readlines() -- It returns a list of lines from the file."
   ]
  },
  {
   "cell_type": "code",
   "execution_count": null,
   "id": "24966b78",
   "metadata": {},
   "outputs": [],
   "source": [
    "#9. What data structure does a shelf value resemble?\n",
    "#Ans:- A shelf value resembles a dictionary."
   ]
  },
  {
   "cell_type": "code",
   "execution_count": null,
   "id": "fb91243b",
   "metadata": {},
   "outputs": [],
   "source": []
  },
  {
   "cell_type": "code",
   "execution_count": null,
   "id": "24fd125e",
   "metadata": {},
   "outputs": [],
   "source": []
  }
 ],
 "metadata": {
  "kernelspec": {
   "display_name": "Python 3",
   "language": "python",
   "name": "python3"
  },
  "language_info": {
   "codemirror_mode": {
    "name": "ipython",
    "version": 3
   },
   "file_extension": ".py",
   "mimetype": "text/x-python",
   "name": "python",
   "nbconvert_exporter": "python",
   "pygments_lexer": "ipython3",
   "version": "3.8.8"
  }
 },
 "nbformat": 4,
 "nbformat_minor": 5
}
