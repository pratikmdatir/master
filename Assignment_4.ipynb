{
 "cells": [
  {
   "cell_type": "markdown",
   "id": "b8dfa378",
   "metadata": {},
   "source": [
    "# Assignment-4"
   ]
  },
  {
   "cell_type": "code",
   "execution_count": null,
   "id": "044ac9c1",
   "metadata": {},
   "outputs": [],
   "source": [
    "#1. What exactly is []?\n",
    "#Ans:- It is an empty list."
   ]
  },
  {
   "cell_type": "code",
   "execution_count": 7,
   "id": "03810231",
   "metadata": {},
   "outputs": [],
   "source": [
    "#2. In a list of values stored in a variable called spam, how would you assign the value 'hello' as the third value? (Assume [2, 4, 6, 8, 10] are in spam.)\n",
    "spam = [2,4,6,8]\n",
    "\n",
    "#Ans:- \n",
    "spam[2] = 'hello'"
   ]
  },
  {
   "cell_type": "code",
   "execution_count": 9,
   "id": "7dbd325c",
   "metadata": {},
   "outputs": [],
   "source": [
    "#Let's pretend the spam includes the list ['a', 'b', 'c', 'd'] for the next three queries.\n",
    "spam = ['a', 'b', 'c', 'd']"
   ]
  },
  {
   "cell_type": "code",
   "execution_count": 15,
   "id": "a3e37f06",
   "metadata": {},
   "outputs": [],
   "source": [
    "#3. What is the value of spam[int(int('3' * 2) / 11)]?\n",
    "#Ans:- 'd'"
   ]
  },
  {
   "cell_type": "code",
   "execution_count": 11,
   "id": "ded1ee43",
   "metadata": {},
   "outputs": [
    {
     "data": {
      "text/plain": [
       "'d'"
      ]
     },
     "execution_count": 11,
     "metadata": {},
     "output_type": "execute_result"
    }
   ],
   "source": [
    "#4. What is the value of spam[-1]?\n",
    "#Ans:- 'd'"
   ]
  },
  {
   "cell_type": "code",
   "execution_count": 16,
   "id": "c57c2b29",
   "metadata": {},
   "outputs": [
    {
     "data": {
      "text/plain": [
       "'d'"
      ]
     },
     "execution_count": 16,
     "metadata": {},
     "output_type": "execute_result"
    }
   ],
   "source": [
    "#5. What is the value of spam[:2]?\n",
    "#Ans:- ['a', 'b']"
   ]
  },
  {
   "cell_type": "code",
   "execution_count": 20,
   "id": "0b0dec0b",
   "metadata": {},
   "outputs": [],
   "source": [
    "# Let's pretend bacon has the list [3.14, 'cat,' 11, 'cat,' True] for the next three questions.\n",
    "bacon = [3.14, 'cat', 11, 'cat', True]"
   ]
  },
  {
   "cell_type": "code",
   "execution_count": 21,
   "id": "5a7db9b4",
   "metadata": {},
   "outputs": [],
   "source": [
    "#6. What is the value of bacon.index('cat')?\n",
    "#Ans:- 1"
   ]
  },
  {
   "cell_type": "code",
   "execution_count": 23,
   "id": "f7796f9d",
   "metadata": {},
   "outputs": [
    {
     "data": {
      "text/plain": [
       "1"
      ]
     },
     "execution_count": 23,
     "metadata": {},
     "output_type": "execute_result"
    }
   ],
   "source": [
    "#7. How does bacon.append(99) change the look of the list value in bacon?\n",
    "#Ans:- bacon.append(99) will append value 99 to the last index of this list. The list value will then become [3.14, 'cat', 11, 'cat', True, 99]."
   ]
  },
  {
   "cell_type": "code",
   "execution_count": 24,
   "id": "7e2d05f2",
   "metadata": {},
   "outputs": [],
   "source": [
    "#8. How does bacon.remove('cat') change the look of the list in bacon?\n",
    "#Ans:- bacon.remove('cat') will remove the first occurance of value - 'cat' from the list. List value = [3.14, 11, 'cat', True, 99]."
   ]
  },
  {
   "cell_type": "code",
   "execution_count": 43,
   "id": "fccef2ac",
   "metadata": {},
   "outputs": [],
   "source": [
    "#9. What are the list concatenation and list replication operators?\n",
    "#Ans:- '+' is the list concatenation operator & '*' is the list replication operator."
   ]
  },
  {
   "cell_type": "code",
   "execution_count": 51,
   "id": "bf583abf",
   "metadata": {},
   "outputs": [],
   "source": [
    "#10. What is difference between the list methods append() and insert()?\n",
    "#Ans:- append() will append an object/value to the list i.e. will add a value at the end of the list/\n",
    "      #insert() needs to index number along with the value/object that needs to be inserted. The value will be inserted in the list at that specific index."
   ]
  },
  {
   "cell_type": "code",
   "execution_count": null,
   "id": "8665e143",
   "metadata": {},
   "outputs": [],
   "source": [
    "#11. What are the two methods for removing items from a list?\n",
    "#Ans:- pop() & remove()"
   ]
  },
  {
   "cell_type": "code",
   "execution_count": 44,
   "id": "a5e7f7ba",
   "metadata": {},
   "outputs": [],
   "source": [
    "#12. Describe how list values and string values are identical.\n",
    "#Ans:- The list and string values both are sequences."
   ]
  },
  {
   "cell_type": "code",
   "execution_count": 46,
   "id": "dac68d3e",
   "metadata": {},
   "outputs": [],
   "source": [
    "#13. What's the difference between tuples and lists?\n",
    "#Ans:- Tuples are immutable objects while Lists are mutable."
   ]
  },
  {
   "cell_type": "code",
   "execution_count": 49,
   "id": "ff16adae",
   "metadata": {},
   "outputs": [],
   "source": [
    "#14. How do you type a tuple value that only contains the integer 42?\n",
    "#Ans:- (42,)"
   ]
  },
  {
   "cell_type": "code",
   "execution_count": 53,
   "id": "d0d907ab",
   "metadata": {},
   "outputs": [
    {
     "data": {
      "text/plain": [
       "99"
      ]
     },
     "execution_count": 53,
     "metadata": {},
     "output_type": "execute_result"
    }
   ],
   "source": [
    "#15. How do you get a list value's tuple form? How do you get a tuple value's list form?\n",
    "#Ans:- List value's tuple form -- By using tuple(listname)\n",
    "       #eg-- bacon=(3.14, 11, 'cat', True, 99)\n",
    "       #tuple(bacon)\n",
    "        \n",
    "       #Tuple value's list form -- By using list(tuplename)\n",
    "       #eg -- t = (1,2,42)\n",
    "       #list(t)"
   ]
  },
  {
   "cell_type": "code",
   "execution_count": 57,
   "id": "19b07f2e",
   "metadata": {},
   "outputs": [],
   "source": [
    "#16. Variables that \"contain\" list values are not necessarily lists themselves. Instead, what do they contain?\n",
    "#Ans:- Variables contain references to the list values."
   ]
  },
  {
   "cell_type": "code",
   "execution_count": 68,
   "id": "d2a42741",
   "metadata": {},
   "outputs": [
    {
     "data": {
      "text/plain": [
       "[1, 2, 42]"
      ]
     },
     "execution_count": 68,
     "metadata": {},
     "output_type": "execute_result"
    }
   ],
   "source": [
    "#17. How do you distinguish between copy.copy() and copy.deepcopy()?\n",
    "#Ans:- copy.copy() is the shallow copy which means any changes made to the copy of the object reflect in the orignal object.\n",
    "       #copy.deepcopy() is the deep copy which means any changes made to the copy of the object do not reflect in the original object.\n",
    "    "
   ]
  },
  {
   "cell_type": "code",
   "execution_count": 71,
   "id": "3d34caa2",
   "metadata": {},
   "outputs": [
    {
     "data": {
      "text/plain": [
       "(3.14, 11, 'cat', True, 99)"
      ]
     },
     "execution_count": 71,
     "metadata": {},
     "output_type": "execute_result"
    }
   ],
   "source": [
    "tuple(bacon)"
   ]
  },
  {
   "cell_type": "code",
   "execution_count": null,
   "id": "ba476434",
   "metadata": {
    "collapsed": true
   },
   "outputs": [],
   "source": []
  },
  {
   "cell_type": "code",
   "execution_count": null,
   "id": "6ad80546",
   "metadata": {},
   "outputs": [],
   "source": []
  },
  {
   "cell_type": "code",
   "execution_count": null,
   "id": "88209fdd",
   "metadata": {},
   "outputs": [],
   "source": []
  }
 ],
 "metadata": {
  "kernelspec": {
   "display_name": "Python 3",
   "language": "python",
   "name": "python3"
  },
  "language_info": {
   "codemirror_mode": {
    "name": "ipython",
    "version": 3
   },
   "file_extension": ".py",
   "mimetype": "text/x-python",
   "name": "python",
   "nbconvert_exporter": "python",
   "pygments_lexer": "ipython3",
   "version": "3.8.8"
  }
 },
 "nbformat": 4,
 "nbformat_minor": 5
}
