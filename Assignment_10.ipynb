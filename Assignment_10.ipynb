{
 "cells": [
  {
   "cell_type": "markdown",
   "id": "e34fe1e1",
   "metadata": {},
   "source": [
    "# Assignment-10"
   ]
  },
  {
   "cell_type": "code",
   "execution_count": null,
   "id": "304c61e3",
   "metadata": {},
   "outputs": [],
   "source": [
    "#1. How do you distinguish between shutil.copy() and shutil.copytree()?\n",
    "#Ans:- shutil.copy() is used to copy the contents of a source file to a new/destination file or directory.\n",
    "      #shutil.copytree() is used to recursively copy entire directory tree from source to the destination directory."
   ]
  },
  {
   "cell_type": "code",
   "execution_count": null,
   "id": "9ace7763",
   "metadata": {},
   "outputs": [],
   "source": [
    "#2. What function is used to rename files?\n",
    "#Ans:- os.rename() function is used to rename the files."
   ]
  },
  {
   "cell_type": "code",
   "execution_count": null,
   "id": "8d2d9bcd",
   "metadata": {},
   "outputs": [],
   "source": [
    "#3. What is the difference between the delete functions in the send2trash and shutil modules?\n",
    "#Ans:- The send2trash functions will move a file or folder to the recycle bin, while shutil functions will permanently delete files and folders and it will be undone."
   ]
  },
  {
   "cell_type": "code",
   "execution_count": null,
   "id": "760c63a9",
   "metadata": {},
   "outputs": [],
   "source": [
    "#4.ZipFile objects have a close() method just like File objects’ close() method. What ZipFile method is equivalent to File objects’ open() method?\n",
    "#Ans:- The zipfile and file object open method() supports the with statement."
   ]
  },
  {
   "cell_type": "code",
   "execution_count": null,
   "id": "c1c0ddb4",
   "metadata": {},
   "outputs": [],
   "source": [
    "#5. Create a programme that searches a folder tree for files with a certain file extension (such as .pdf or .jpg). Copy these files from whatever location they are in to a new folder.\n",
    "\n",
    "import os, shutil\n",
    "\n",
    "try:\n",
    "    path = r'C:\\Users\\prati\\Dropbox\\My PC (LAPTOP-5C9MQBR5)\\Documents\\program_test'\n",
    "    dir_name = 'Test_folder'\n",
    "    New_dir = os.path.join(path,dir_name)\n",
    "    os.mkdir(New_dir)\n",
    "\n",
    "\n",
    "    for folder, subfolders, files in os.walk(path):\n",
    "        for file in files:\n",
    "            if file.endswith(('.pdf','.txt')):\n",
    "                file_path = os.path.join(folder, file)\n",
    "\n",
    "            print('Copying: ', file)\n",
    "            shutil.copy(file_path, New_dir)\n",
    "            print('Copy Complete...')\n",
    "            \n",
    "        if os.path.exists(file_path):\n",
    "                print('All Done.....')   \n",
    "        break\n",
    "                \n",
    "except Exception as e:\n",
    "    print(e)"
   ]
  },
  {
   "cell_type": "code",
   "execution_count": null,
   "id": "8afa34e2",
   "metadata": {},
   "outputs": [],
   "source": []
  },
  {
   "cell_type": "code",
   "execution_count": null,
   "id": "cbe5b2f6",
   "metadata": {},
   "outputs": [],
   "source": []
  },
  {
   "cell_type": "code",
   "execution_count": null,
   "id": "96956cd7",
   "metadata": {},
   "outputs": [],
   "source": []
  },
  {
   "cell_type": "code",
   "execution_count": null,
   "id": "8d757acf",
   "metadata": {},
   "outputs": [],
   "source": []
  },
  {
   "cell_type": "code",
   "execution_count": null,
   "id": "c2eacda5",
   "metadata": {},
   "outputs": [],
   "source": []
  },
  {
   "cell_type": "code",
   "execution_count": null,
   "id": "a1ae3b1e",
   "metadata": {},
   "outputs": [],
   "source": []
  },
  {
   "cell_type": "code",
   "execution_count": null,
   "id": "fc382d67",
   "metadata": {},
   "outputs": [],
   "source": []
  },
  {
   "cell_type": "code",
   "execution_count": null,
   "id": "ea78a215",
   "metadata": {},
   "outputs": [],
   "source": []
  },
  {
   "cell_type": "code",
   "execution_count": null,
   "id": "87097b61",
   "metadata": {},
   "outputs": [],
   "source": []
  },
  {
   "cell_type": "code",
   "execution_count": null,
   "id": "b622d4e4",
   "metadata": {},
   "outputs": [],
   "source": []
  },
  {
   "cell_type": "code",
   "execution_count": null,
   "id": "8b1bcc68",
   "metadata": {},
   "outputs": [],
   "source": []
  }
 ],
 "metadata": {
  "kernelspec": {
   "display_name": "Python 3",
   "language": "python",
   "name": "python3"
  },
  "language_info": {
   "codemirror_mode": {
    "name": "ipython",
    "version": 3
   },
   "file_extension": ".py",
   "mimetype": "text/x-python",
   "name": "python",
   "nbconvert_exporter": "python",
   "pygments_lexer": "ipython3",
   "version": "3.8.8"
  }
 },
 "nbformat": 4,
 "nbformat_minor": 5
}
